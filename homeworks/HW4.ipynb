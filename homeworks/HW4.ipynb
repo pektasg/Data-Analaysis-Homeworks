{
 "cells": [
  {
   "cell_type": "markdown",
   "metadata": {},
   "source": [
    "# Homework 3\n"
   ]
  },
  {
   "cell_type": "code",
   "execution_count": 106,
   "metadata": {},
   "outputs": [],
   "source": [
    "import os\n",
    "import sys\n",
    "import hashlib\n",
    "import pandas as pd\n",
    "import numpy as np\n",
    "from urllib.request import urlopen\n",
    "\n",
    "assert os.path.exists('../homeworks/HW4.ipynb')\n",
    "\n",
    "info = sys.platform + '\\n' + sys.version + '\\n' + os.getcwd() + '\\n' + os.getlogin()\n",
    "name = hashlib.sha256(info.encode('utf-8')).hexdigest()\n",
    "with open('../other/hw-4-'+name,'w') as f:\n",
    "    f.write(info)"
   ]
  },
  {
   "cell_type": "code",
   "execution_count": 107,
   "metadata": {},
   "outputs": [],
   "source": [
    "with open('../other/hw-4-'+name,'r') as f:\n",
    "    info = f.read()\n",
    "name = hashlib.sha256(info.encode('utf-8')).hexdigest()\n",
    "assert os.path.exists('../other/hw-4-'+name)"
   ]
  },
  {
   "cell_type": "markdown",
   "metadata": {},
   "source": [
    "## Task\n",
    "\n",
    "Apply all of the supervised and unsupervised classification and clustering algorithms we learned so far for the [sonar dataset from UCI](http://archive.ics.uci.edu/ml/datasets/connectionist+bench+(sonar,+mines+vs.+rocks)).\n",
    "\n",
    "The code for downloading the data is below. Don't load the data again and again in each subtask, refer the data as `SONAR` after you run the cell below."
   ]
  },
  {
   "cell_type": "code",
   "execution_count": 122,
   "metadata": {},
   "outputs": [],
   "source": [
    "with urlopen(\"https://archive.ics.uci.edu/ml/machine-learning-databases/undocumented/connectionist-bench/sonar/sonar.all-data\") as fil:\n",
    "    SONAR = pd.read_csv(fil, delimiter=',', header=None)"
   ]
  },
  {
   "cell_type": "markdown",
   "metadata": {},
   "source": [
    "#### I imported all the necessary libraries below."
   ]
  },
  {
   "cell_type": "code",
   "execution_count": 123,
   "metadata": {},
   "outputs": [],
   "source": [
    "import pandas as pd\n",
    "from sklearn.model_selection import train_test_split\n",
    "from sklearn.neighbors import KNeighborsClassifier\n",
    "from sklearn.metrics import confusion_matrix\n",
    "from sklearn.metrics import accuracy_score\n",
    "from sklearn.cluster import KMeans\n",
    "import numpy as np\n",
    "import matplotlib.pyplot as plt\n",
    "import pandas as pd\n",
    "import cmath as math\n",
    "import sklearn\n",
    "import sklearn.metrics as sm\n",
    "from sklearn.linear_model import LogisticRegression\n",
    "from sklearn.metrics import classification_report\n",
    "from sklearn.cluster import AgglomerativeClustering\n",
    "import scipy.cluster.hierarchy as sch\n",
    "\n"
   ]
  },
  {
   "cell_type": "markdown",
   "metadata": {},
   "source": [
    "## Subtask 1: k-nn Algorithm\n",
    "\n",
    "To do the classification I applied knn algorithm which is a supervised learning. I divided the data into two as test and train. I created a model using the knn algorithm and I fit the model on the train data then predicted test data. Finally, I obtained the accuracy value and confision matrix comparing the estimated data with the actual data.\n",
    "\n",
    "k-nn algorithm purpose is to use a SONAR data in which the data points are separated into two classes as mine (\"M\") and rock(\"R\") to predict the classification of a new sample point. At this algorithm we know the classes and expected outputs.\n",
    "\n"
   ]
  },
  {
   "cell_type": "code",
   "execution_count": 124,
   "metadata": {},
   "outputs": [
    {
     "name": "stdout",
     "output_type": "stream",
     "text": [
      "[[32  4]\n",
      " [10 23]]\n"
     ]
    },
    {
     "data": {
      "text/plain": [
       "0.7971014492753623"
      ]
     },
     "execution_count": 124,
     "metadata": {},
     "output_type": "execute_result"
    }
   ],
   "source": [
    "Xtrain, Xtest, Ytrain, Ytest = train_test_split(SONAR.iloc[:,0:60], SONAR.iloc[:,60], test_size=0.33)\n",
    "\n",
    "model = KNeighborsClassifier(n_neighbors=3, metric='euclidean').fit(Xtrain, Ytrain)\n",
    "predicted = model.predict(Xtest)\n",
    "print(confusion_matrix(Ytest,predicted))\n",
    "accuracy_score(Ytest,predicted)"
   ]
  },
  {
   "cell_type": "markdown",
   "metadata": {},
   "source": [
    "## Subtask 2: k-means Algorithm\n",
    "\n",
    "I used K-means clustering that is a type of unsupervised learning. As in k-nn, I divided the data into two as test and train. I created a model using the k-means and I fit the model on the train data then predicted test data. Finally, I obtained the accuracy value and confision matrix comparing the estimated data with the actual data.\n",
    "\n",
    "The goal of this algorithm is to find groups in the data, with the number of groups represented by the variable K. The algorithm works iteratively to assign each data point to one of K groups based on the features that are provided. Data points are clustered based on feature similarity. I determined K as 2."
   ]
  },
  {
   "cell_type": "code",
   "execution_count": 133,
   "metadata": {},
   "outputs": [
    {
     "name": "stdout",
     "output_type": "stream",
     "text": [
      "[[22 10]\n",
      " [22 15]]\n"
     ]
    },
    {
     "data": {
      "text/plain": [
       "0.5362318840579711"
      ]
     },
     "execution_count": 133,
     "metadata": {},
     "output_type": "execute_result"
    }
   ],
   "source": [
    "Xtrain, Xtest, Ytrain, Ytest = train_test_split(SONAR.iloc[:, 0:60], SONAR.iloc[:,60], test_size=0.33)\n",
    "\n",
    "model = KMeans(n_clusters=2, random_state=9).fit(Xtrain)\n",
    "predicted = model.predict(Xtest)\n",
    "transform = {\"R\": 0, \"M\": 1}\n",
    "real = Ytest.map(lambda x: transform[x])\n",
    "print(confusion_matrix(real,predicted))\n",
    "accuracy_score(real,predicted)\n"
   ]
  },
  {
   "cell_type": "markdown",
   "metadata": {},
   "source": [
    "## Subtask 3: Hiearchical Clustering\n",
    "\n",
    "Hierarchical clustering is a type of unsupervised machine learning algorithm used to cluster unlabeled data points. Like K-means clustering, hierarchical clustering also groups together the data points with similar characteristics. At the start, treat each data point as one cluster. Therefore, the number of clusters at the start will be K, while K is an integer representing the number of data points. Form a cluster by joining the two closest data points resulting in K-1 clusters. Repeat Form more clusters by joining the two closest clusters resulting in K-2 clusters. Repeat these steps until one big cluster is formed. Once single cluster is formed, dendrograms are used to divide into multiple clusters.\n",
    "\n",
    "\n",
    "I cut the tree into 2 because there are two categories in SONAR dataset. "
   ]
  },
  {
   "cell_type": "code",
   "execution_count": 134,
   "metadata": {},
   "outputs": [
    {
     "name": "stdout",
     "output_type": "stream",
     "text": [
      "0.5096153846153846\n",
      "[[70 27]\n",
      " [75 36]]\n"
     ]
    },
    {
     "data": {
      "image/png": "[encoded data removed]",
      "text/plain": [
       "<Figure size 720x504 with 1 Axes>"
      ]
     },
     "metadata": {
      "needs_background": "light"
     },
     "output_type": "display_data"
    }
   ],
   "source": [
    "      \n",
    "dmy = pd.get_dummies(SONAR.iloc[:,60])\n",
    "SONAR_dmy = pd.concat([SONAR.iloc[:,0:60], dmy], axis=1)\n",
    "X=SONAR_dmy.iloc[:,0:60]\n",
    "y_R=SONAR_dmy.iloc[:,60]\n",
    "        \n",
    "plt.figure(figsize=(10, 7))  \n",
    "plt.title(\"SONAT Hiearchical Dendogram\")  \n",
    "dend = sch.dendrogram(sch.linkage(X, method='ward'))\n",
    "Hclus = AgglomerativeClustering(n_clusters=2, affinity='euclidean', linkage='ward').fit(X)\n",
    "print(accuracy_score(y_R,Hclus.labels_))\n",
    "print(confusion_matrix(y_R,Hclus.labels_))"
   ]
  },
  {
   "cell_type": "markdown",
   "metadata": {},
   "source": [
    "## Subtask 3: Logistic Regression\n",
    "\n",
    "Logistic regression in a supervised learning model. It is used when the response variable is categorical in nature. For instance, yes/no, true/false. For SONAR dataset, dependent variable is categorical so logistic regression can be used classify as the object mine or rock. \n"
   ]
  },
  {
   "cell_type": "code",
   "execution_count": 135,
   "metadata": {
    "scrolled": true
   },
   "outputs": [
    {
     "name": "stdout",
     "output_type": "stream",
     "text": [
      "[[23 10]\n",
      " [ 5 31]]\n",
      "0.782608695652174\n"
     ]
    },
    {
     "name": "stderr",
     "output_type": "stream",
     "text": [
      "C:\\Users\\Deren\\AppData\\Roaming\\Python\\Python37\\site-packages\\sklearn\\linear_model\\logistic.py:432: FutureWarning: Default solver will be changed to 'lbfgs' in 0.22. Specify a solver to silence this warning.\n",
      "  FutureWarning)\n"
     ]
    }
   ],
   "source": [
    "\n",
    "dmy = pd.get_dummies(SONAR.iloc[:,60])\n",
    "SONAR_dmy = pd.concat([SONAR.iloc[:,0:60], dmy], axis=1)\n",
    "X=SONAR_dmy.iloc[:,0:60]\n",
    "y_R=SONAR_dmy.iloc[:,60]\n",
    "\n",
    "Xtrain, Xtest, Ytrain, Ytest = train_test_split(X, y_R, test_size = 0.33, random_state=25)\n",
    "LogReg = LogisticRegression()\n",
    "LogReg.fit(Xtrain, Ytrain)\n",
    "predicted = LogReg.predict(Xtest)\n",
    "from sklearn.metrics import confusion_matrix\n",
    "cm = confusion_matrix(Ytest, predicted)\n",
    "print(cm)\n",
    "ac = accuracy_score(Ytest, predicted)\n",
    "print(ac)\n"
   ]
  },
  {
   "cell_type": "code",
   "execution_count": 136,
   "metadata": {},
   "outputs": [
    {
     "name": "stdout",
     "output_type": "stream",
     "text": [
      "              precision    recall  f1-score   support\n",
      "\n",
      "           0       0.82      0.70      0.75        33\n",
      "           1       0.76      0.86      0.81        36\n",
      "\n",
      "   micro avg       0.78      0.78      0.78        69\n",
      "   macro avg       0.79      0.78      0.78        69\n",
      "weighted avg       0.79      0.78      0.78        69\n",
      "\n"
     ]
    }
   ],
   "source": [
    "print(classification_report(Ytest, predicted))"
   ]
  },
  {
   "cell_type": "markdown",
   "metadata": {},
   "source": [
    "### Why can not we apply linear regression ?\n",
    "For classification problems dependent variables that are categorical and unordered. Linear regression can be used when the dependent variable is continuous and nature of the regression line is linear. In our dataset, dependent variable is a categorical so we can not use linear regression."
   ]
  },
  {
   "cell_type": "markdown",
   "metadata": {},
   "source": [
    "## Subtask 3: Gaussian Naive Bayes\n",
    "The Gaussian Naive Bayes is one supervised classifier model. Bayes’ Theorem provides a way that we can calculate the probability of a hypothesis given our prior knowledge. Gaussian Naive Bayes is an extension of naive Bayes  by assuming a Gaussian distribution. Gaussian is the easiest to work with because we only need to estimate the mean and the standard deviation from our training data. We calculate the mean and standard deviation of input values (x) for each class to summarize the distribution. This means that in addition to the probabilities for each class, we must also store the mean and standard deviations for each input variable for each class.\n",
    "\n",
    "Gaussian Naive Bayes model can bu used to classify SONAR dataset as R or M.\n"
   ]
  },
  {
   "cell_type": "code",
   "execution_count": 137,
   "metadata": {},
   "outputs": [
    {
     "name": "stdout",
     "output_type": "stream",
     "text": [
      "[[27  4]\n",
      " [16 16]]\n",
      "0.6825396825396826\n"
     ]
    }
   ],
   "source": [
    "\n",
    "dmy = pd.get_dummies(SONAR.iloc[:,60])\n",
    "SONAR_dmy = pd.concat([SONAR.iloc[:,0:60], dmy], axis=1)\n",
    "X=SONAR_dmy.iloc[:,0:60]\n",
    "y_R=SONAR_dmy.iloc[:,60]\n",
    "\n",
    "Xtrain, Xtest, Ytrain, Ytest = train_test_split(X, y_R, test_size = .3, random_state=25)\n",
    "model = GaussianNB()\n",
    "model.fit(Xtrain, Ytrain)\n",
    "\n",
    "predicted = model.predict(Xtest)\n",
    "cm = confusion_matrix(Ytest, predicted)\n",
    "print(cm)\n",
    "ac = accuracy_score(Ytest, predicted)\n",
    "print(ac)"
   ]
  },
  {
   "cell_type": "code",
   "execution_count": null,
   "metadata": {},
   "outputs": [],
   "source": []
  }
 ],
 "metadata": {
  "kernelspec": {
   "display_name": "Python 3",
   "language": "python",
   "name": "python3"
  },
  "language_info": {
   "codemirror_mode": {
    "name": "ipython",
    "version": 3
   },
   "file_extension": ".py",
   "mimetype": "text/x-python",
   "name": "python",
   "nbconvert_exporter": "python",
   "pygments_lexer": "ipython3",
   "version": "3.7.0"
  }
 },
 "nbformat": 4,
 "nbformat_minor": 2
}
